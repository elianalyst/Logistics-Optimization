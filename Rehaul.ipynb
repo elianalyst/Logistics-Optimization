{
 "cells": [
  {
   "cell_type": "markdown",
   "metadata": {},
   "source": [
    "<font size='5'><b><u>D605 Task 3: Amazon Logistics Optimization</u></b></font>\n",
    "\n",
    "Amazon, known primarily as an online retail company, has a large-scale logistics operation with over 50 aircrafts. They operate out of two main cargo hubs, delivering packages to their network of 68 international fulfillment centers. Three of the facilities are focus centers. They are located in ‘focus’ cities and facilitate deliveries to other fulfillment centers.\n",
    "\n",
    "Amazon has requested an analysis of its logistics network to optimize shipping costs. Shipping expenses are one of the most significant company expenditures. Optimizing the logistics network will reduce costs and increase company profits.\n"
   ]
  },
  {
   "cell_type": "markdown",
   "metadata": {},
   "source": [
    "<b><u><font size='3'>Objective Function</font></u></b>\n",
    "\n",
    "The object of the optimization problem is to minimize Amazon’s cost function. Xij, Yik, and Zjk represent the decision variables. C represents the cost coefficient associated with each decision variable.\n",
    "\n",
    "\n",
    "<img src=\"/Users/elineiman/Data Portfolio/Logistics Optimization/Images/Objective.png\" alt=\"Alt text\" width=\"500\">"
   ]
  },
  {
   "cell_type": "markdown",
   "metadata": {},
   "source": [
    "<b><u><font size='3'>Constraints </font></u></b>\n",
    "\n",
    "Amazon’s logistics network has four main constraints:\n",
    "\n",
    "\n",
    "<table>\n",
    "  <tr>\n",
    "    <td>\n",
    "      <img src=\"/Users/elineiman/Data Portfolio/Logistics Optimization/Images/C1.png\" alt=\"Constraint 1\" width=\"300\"><br>\n",
    "      <b>1</b>\n",
    "    </td>\n",
    "    <td>\n",
    "      <img src=\"/Users/elineiman/Data Portfolio/Logistics Optimization/Images/C2.png\" alt=\"Constraint 2\" width=\"300\"><br>\n",
    "      <b>2</b>\n",
    "    </td>\n",
    "  </tr>\n",
    "  <tr>\n",
    "    <td>\n",
    "      <img src=\"/Users/elineiman/Data Portfolio/Logistics Optimization/Images/C3.png\" alt=\"Constraint 3\" width=\"300\"><br>\n",
    "      <b>3</b>\n",
    "    </td>\n",
    "    <td>\n",
    "      <img src=\"/Users/elineiman/Data Portfolio/Logistics Optimization/Images/C4.png\" alt=\"Constraint 4\" width=\"300\"><br>\n",
    "      <b>4</b>\n",
    "    </td>\n",
    "  </tr>\n",
    "</table>\n",
    "\n",
    "<b>1. Main Hub Capacity:</b> The two main cargo centers have a limited size. The total quantity of goods each main hub ships out to focus cities (Xij) and fulfillment centers (Yik) can not exceed their storage capacity. The CVG hub’s capacity is 95,650 monthly tons. The AFW hub’s capacity is 44,350 monthly tons.\n",
    "\n",
    "<b>2. Quantity Into a Focus Center:</b> Each focus center has a limited size. The total quantity each focus center receives (Xij) can not exceed its storage capacity. The quantity each focus center receives is the sum of goods from main hub 1 and main hub 2. Leipzig focus center’s capacity is 85,000 monthly tons. Hyderabad focus center’s capacity is 19,000 monthly tons. San Bernardino focus center’s capacity is 36,000 monthly tons.\n",
    "\n",
    "<b>3. Quantity Out of a Focus Center:</b> Each focus city center receives a certain amount of goods from the main hubs (Xij). The total quantity a focus city center sends out to fulfillment centers (Zjk) is the same quantity they initially received. Therefore, excess goods are not accumulated, and received goods are not lost.\n",
    "\n",
    "<b>4. Fulfillment Center Demand:</b> Each fulfillment center has a demand for goods based on customer needs. Fulfillment centers in cities with more customers have a higher demand for goods. The goods each fulfillment center receives from the main hubs (Yik) and focus city centers (Zjk) must meet the fulfillment center's demand.\n",
    "\n",
    "There are 73 total constraints given two main hubs, three focus centers, and 65 fulfillment centers. There are two hub capacity constraints, three focus city quantity received constraints, three focus city quantity shipped constraints, and 65 fulfillment center demand constraints. "
   ]
  },
  {
   "cell_type": "markdown",
   "metadata": {},
   "source": [
    "<b><u><font size='3'>Decision Variables </font></u></b>\n",
    "\n",
    "<b>Xij:</b> The quantity sent from main hub i to focus center j. \n",
    "\n",
    "<b>Yik:</b> The quantity sent from main hub i to fulfillment center k.\n",
    "\n",
    "<b>Zjk:</b> The quantity sent from focus center j to fulfillment center k.\n",
    "\n",
    "There are 189 decision variables to optimize. The logistics network has 331 potential connections, but some facilities do not interact because they are too far apart.\n"
   ]
  },
  {
   "cell_type": "markdown",
   "metadata": {},
   "source": [
    "<b><u><font size='3'>Optimization Approach </font></u></b>\n",
    "\n",
    "Linear programming will be used to solve Amazon’s logistics optimization problem. Linear programming involves continuous decision variables, and requires linear constraints and objective functions. The solution will utilize the simplex algorithm."
   ]
  },
  {
   "cell_type": "markdown",
   "metadata": {},
   "source": [
    "<b><u><font size ='3'>Program To Solve Optimization Problem </font></u></b>\n",
    "\n",
    "Define Components:\n",
    "- Decision Variables\n",
    "- Objective Function\n",
    "- Constraints"
   ]
  },
  {
   "cell_type": "code",
   "execution_count": 19,
   "metadata": {},
   "outputs": [],
   "source": [
    "from pulp import LpProblem, LpVariable, LpMinimize, LpContinuous, lpSum, LpStatus\n",
    "from pulp import *\n",
    "import numpy as np\n",
    "import pandas as pd\n",
    "import math\n",
    "from pulp import LpProblem, LpStatus"
   ]
  },
  {
   "cell_type": "markdown",
   "metadata": {},
   "source": [
    "Create optimization scenario"
   ]
  },
  {
   "cell_type": "code",
   "execution_count": 20,
   "metadata": {},
   "outputs": [
    {
     "name": "stderr",
     "output_type": "stream",
     "text": [
      "/opt/anaconda3/lib/python3.11/site-packages/pulp/pulp.py:1298: UserWarning: Spaces are not permitted in the name. Converted to '_'\n",
      "  warnings.warn(\"Spaces are not permitted in the name. Converted to '_'\")\n"
     ]
    }
   ],
   "source": [
    "prob = LpProblem(\"Amazon Logistics\", LpMinimize)"
   ]
  },
  {
   "cell_type": "markdown",
   "metadata": {},
   "source": [
    "Import cost coefficients\n",
    "- The 'costs' data frame contains the cost coefficients for shipping goods from a supplier (hub or focus) to a fulfillment center.\n",
    "- The data table was extracted and imported from the task scenario description."
   ]
  },
  {
   "cell_type": "code",
   "execution_count": 21,
   "metadata": {},
   "outputs": [],
   "source": [
    "costs=pd.read_csv('/Users/elineiman/Desktop/WGU Data Sets/Cost Coefficients - Sheet1.csv')"
   ]
  },
  {
   "cell_type": "code",
   "execution_count": 22,
   "metadata": {},
   "outputs": [],
   "source": [
    "#Drop first and fourth row - just meant to be headers\n",
    "costs = costs.drop([0,4])\n",
    "costs = costs.reset_index(drop=True)\n",
    "\n",
    "#rename columns\n",
    "costs.columns = ['Center', 'Cincinnati_hub', 'Alliance_hub', 'Leipzig_focus', 'Hyderabad_focus', 'San_Bernadino_focus']\n",
    "\n",
    "#Align Row Names\n",
    "costs.iloc[0, costs.columns.get_loc('Center')] = 'Leipzig_focus'\n",
    "costs.iloc[1, costs.columns.get_loc('Center')] = 'Hyderabad_focus'\n",
    "costs.iloc[2, costs.columns.get_loc('Center')] = 'San_Bernadino_focus'"
   ]
  },
  {
   "cell_type": "code",
   "execution_count": 23,
   "metadata": {},
   "outputs": [
    {
     "data": {
      "text/html": [
       "<div>\n",
       "<style scoped>\n",
       "    .dataframe tbody tr th:only-of-type {\n",
       "        vertical-align: middle;\n",
       "    }\n",
       "\n",
       "    .dataframe tbody tr th {\n",
       "        vertical-align: top;\n",
       "    }\n",
       "\n",
       "    .dataframe thead th {\n",
       "        text-align: right;\n",
       "    }\n",
       "</style>\n",
       "<table border=\"1\" class=\"dataframe\">\n",
       "  <thead>\n",
       "    <tr style=\"text-align: right;\">\n",
       "      <th></th>\n",
       "      <th>Center</th>\n",
       "      <th>Cincinnati_hub</th>\n",
       "      <th>Alliance_hub</th>\n",
       "      <th>Leipzig_focus</th>\n",
       "      <th>Hyderabad_focus</th>\n",
       "      <th>San_Bernadino_focus</th>\n",
       "    </tr>\n",
       "  </thead>\n",
       "  <tbody>\n",
       "    <tr>\n",
       "      <th>0</th>\n",
       "      <td>Leipzig_focus</td>\n",
       "      <td>1.5</td>\n",
       "      <td>NaN</td>\n",
       "      <td>NaN</td>\n",
       "      <td>NaN</td>\n",
       "      <td>NaN</td>\n",
       "    </tr>\n",
       "    <tr>\n",
       "      <th>1</th>\n",
       "      <td>Hyderabad_focus</td>\n",
       "      <td>NaN</td>\n",
       "      <td>NaN</td>\n",
       "      <td>1.6</td>\n",
       "      <td>NaN</td>\n",
       "      <td>NaN</td>\n",
       "    </tr>\n",
       "    <tr>\n",
       "      <th>2</th>\n",
       "      <td>San_Bernadino_focus</td>\n",
       "      <td>0.5</td>\n",
       "      <td>0.5</td>\n",
       "      <td>NaN</td>\n",
       "      <td>NaN</td>\n",
       "      <td>NaN</td>\n",
       "    </tr>\n",
       "    <tr>\n",
       "      <th>3</th>\n",
       "      <td>Paris</td>\n",
       "      <td>1.6</td>\n",
       "      <td>NaN</td>\n",
       "      <td>0.5</td>\n",
       "      <td>1.1</td>\n",
       "      <td>NaN</td>\n",
       "    </tr>\n",
       "    <tr>\n",
       "      <th>4</th>\n",
       "      <td>Cologne</td>\n",
       "      <td>1.5</td>\n",
       "      <td>NaN</td>\n",
       "      <td>0.5</td>\n",
       "      <td>1.0</td>\n",
       "      <td>NaN</td>\n",
       "    </tr>\n",
       "  </tbody>\n",
       "</table>\n",
       "</div>"
      ],
      "text/plain": [
       "                Center  Cincinnati_hub  Alliance_hub  Leipzig_focus  \\\n",
       "0        Leipzig_focus             1.5           NaN            NaN   \n",
       "1      Hyderabad_focus             NaN           NaN            1.6   \n",
       "2  San_Bernadino_focus             0.5           0.5            NaN   \n",
       "3                Paris             1.6           NaN            0.5   \n",
       "4              Cologne             1.5           NaN            0.5   \n",
       "\n",
       "   Hyderabad_focus  San_Bernadino_focus  \n",
       "0              NaN                  NaN  \n",
       "1              NaN                  NaN  \n",
       "2              NaN                  NaN  \n",
       "3              1.1                  NaN  \n",
       "4              1.0                  NaN  "
      ]
     },
     "execution_count": 23,
     "metadata": {},
     "output_type": "execute_result"
    }
   ],
   "source": [
    "costs.head()"
   ]
  },
  {
   "cell_type": "markdown",
   "metadata": {},
   "source": [
    "Create list of each center combinations cost coefficient\n",
    "- Many centers don't interact, thus there cost coefficient is NaN.\n",
    "- The list won't include combinations where the center doesn't interact."
   ]
  },
  {
   "cell_type": "code",
   "execution_count": 24,
   "metadata": {},
   "outputs": [],
   "source": [
    "cost_dict = {}\n",
    "\n",
    "for index, row in costs.iterrows():\n",
    "    center_name = row['Center']\n",
    "    for col in row.index[1:]: \n",
    "        cost = row[col]\n",
    "        if pd.notna(cost):\n",
    "            cost_dict[(col, center_name)] = cost"
   ]
  },
  {
   "cell_type": "markdown",
   "metadata": {},
   "source": [
    "Define Decision Variables:"
   ]
  },
  {
   "cell_type": "code",
   "execution_count": 25,
   "metadata": {},
   "outputs": [],
   "source": [
    "hubs = [\"Cincinnati_hub\", \"Alliance_hub\"]\n",
    "focus_centers = [\"Leipzig_focus\", \"Hyderabad_focus\", \"San_Bernadino_focus\"]\n",
    "fulfillment_centers = costs['Center'][3:].tolist()\n",
    "\n",
    "capacity = {\n",
    "    \"Cincinnati_hub\": 95650,\n",
    "    \"Alliance_hub\": 44350\n",
    "}\n",
    "\n",
    "focus_capacity = {\n",
    "    \"Leipzig_focus\": 85000,\n",
    "    \"Hyderabad_focus\": 19000,\n",
    "    \"San_Bernadino_focus\": 36000\n",
    "}\n",
    "\n",
    "demands = [6500, 640, 180, 9100, 570, 19000, 14800, 90, 185, 800, 1700, 170, 2800, 3700, 30, 6700, 190, 175, 38, 2400, 7200, 100, 1200, 1100, \n",
    "           1900, 240, 1500, 540, 3400, 185, 1600, 3000, 500, 16, 63, 5100, 172, 200, 173, 300, 290, 550, 1300, 1700, 975, 1200, 480, 100, 450,\n",
    "           11200, 900, 290, 150, 1200, 420, 1000, 1100, 650, 975, 3300, 3300, 1100, 600, 2000, 260]\n",
    "demand = {fulfillment_centers[i]: demands[i] for i in range(len(demands))}\n"
   ]
  },
  {
   "cell_type": "code",
   "execution_count": 26,
   "metadata": {},
   "outputs": [
    {
     "name": "stdout",
     "output_type": "stream",
     "text": [
      "Total Capacity (Focus Centers & Hubs): 280000\n",
      "Total Demand: 133747\n",
      "Excess Capacity: 146253\n"
     ]
    }
   ],
   "source": [
    "total_focus_capacity=sum(focus_capacity.values())\n",
    "total_hub_capacity=sum(capacity.values())\n",
    "total_network_capacity=total_focus_capacity + total_hub_capacity\n",
    "print(f'Total Capacity (Focus Centers & Hubs): {total_network_capacity}')\n",
    "\n",
    "total_demand=sum(demands)\n",
    "print(f'Total Demand: {total_demand}')\n",
    "print(f'Excess Capacity: {total_network_capacity-(total_demand)}')"
   ]
  },
  {
   "cell_type": "code",
   "execution_count": 28,
   "metadata": {},
   "outputs": [],
   "source": [
    "Xij = { (hub, focus_center): LpVariable(f\"Xij_{hub}_{focus_center}\", 0, None, LpContinuous) \n",
    "        for hub, focus_center in cost_dict.keys() if hub in hubs and focus_center in focus_centers }\n",
    "\n",
    "Yik = { (hub, fulfillment_center): LpVariable(f\"Yik_{hub}_{fulfillment_center}\", 0, None, LpContinuous) \n",
    "        for hub, fulfillment_center in cost_dict.keys() if hub in hubs and fulfillment_center in fulfillment_centers }\n",
    "\n",
    "Zjk = { (focus_center, fulfillment_center): LpVariable(f\"Zjk_{focus_center}_{fulfillment_center}\", 0, None, LpContinuous) \n",
    "        for focus_center, fulfillment_center in cost_dict.keys() if focus_center in focus_centers and fulfillment_center in fulfillment_centers }"
   ]
  },
  {
   "cell_type": "markdown",
   "metadata": {},
   "source": [
    "Define Constraints"
   ]
  },
  {
   "cell_type": "code",
   "execution_count": 29,
   "metadata": {},
   "outputs": [],
   "source": [
    "# Hub capacity constraint\n",
    "for hub in hubs:\n",
    "    prob += (\n",
    "        lpSum(Xij[hub, focus_center] for focus_center in focus_centers if (hub, focus_center) in Xij) +\n",
    "        lpSum(Yik[hub, fulfillment_center] for fulfillment_center in fulfillment_centers if (hub, fulfillment_center) in Yik)\n",
    "        <= capacity[hub]\n",
    "    ), f\"Hub_Capacity_{hub}_Max_{capacity[hub]}\""
   ]
  },
  {
   "cell_type": "code",
   "execution_count": 30,
   "metadata": {},
   "outputs": [],
   "source": [
    "# Focus center capacity constraint\n",
    "for focus_center in focus_centers:\n",
    "    prob += (\n",
    "        lpSum(Xij[hub, focus_center] for hub in hubs if (hub, focus_center) in Xij)\n",
    "        <= focus_capacity[focus_center]\n",
    "    ), f\"Focus_Capacity_{focus_center}_Max_{focus_capacity[focus_center]}\""
   ]
  },
  {
   "cell_type": "code",
   "execution_count": 31,
   "metadata": {},
   "outputs": [],
   "source": [
    "# Quantity Out of a Focus Center\n",
    "for focus_center in focus_centers:\n",
    "    prob += (\n",
    "        lpSum(Xij[hub, focus_center] for hub in hubs if (hub, focus_center) in Xij) ==\n",
    "        lpSum(Zjk[focus_center, fulfillment_center] for fulfillment_center in fulfillment_centers if (focus_center, fulfillment_center) in Zjk)\n",
    "    ), f\"Flow_Balance_{focus_center}\""
   ]
  },
  {
   "cell_type": "code",
   "execution_count": 32,
   "metadata": {},
   "outputs": [],
   "source": [
    "# Fulfillment center demand constraint\n",
    "for fulfillment_center in fulfillment_centers:\n",
    "    prob += (\n",
    "        lpSum(Yik[hub, fulfillment_center] for hub in hubs if (hub, fulfillment_center) in Yik) +\n",
    "        lpSum(Zjk[focus_center, fulfillment_center] for focus_center in focus_centers if (focus_center, fulfillment_center) in Zjk)\n",
    "        == demand[fulfillment_center]\n",
    "    ), f\"Fulfillment_Demand_{fulfillment_center}\""
   ]
  },
  {
   "cell_type": "markdown",
   "metadata": {},
   "source": [
    "Define Objective Function"
   ]
  },
  {
   "cell_type": "code",
   "execution_count": 33,
   "metadata": {},
   "outputs": [],
   "source": [
    "objective = lpSum(\n",
    "    Xij[hub, focus_center] * cost_dict[(hub, focus_center)]\n",
    "    for hub, focus_center in Xij.keys()\n",
    ") + lpSum(\n",
    "    Yik[hub, fulfillment_center] * cost_dict[(hub, fulfillment_center)]\n",
    "    for hub, fulfillment_center in Yik.keys()\n",
    ") + lpSum(\n",
    "    Zjk[focus_center, fulfillment_center] * cost_dict[(focus_center, fulfillment_center)]\n",
    "    for focus_center, fulfillment_center in Zjk.keys()\n",
    ")\n",
    "\n",
    "prob += objective"
   ]
  },
  {
   "cell_type": "markdown",
   "metadata": {},
   "source": [
    "Write the Scenario to a .lp file"
   ]
  },
  {
   "cell_type": "code",
   "execution_count": 34,
   "metadata": {},
   "outputs": [],
   "source": [
    "#prob.writeLP('AmazonLogistics.lp')"
   ]
  },
  {
   "cell_type": "markdown",
   "metadata": {},
   "source": [
    "Solve"
   ]
  },
  {
   "cell_type": "code",
   "execution_count": 35,
   "metadata": {},
   "outputs": [
    {
     "name": "stdout",
     "output_type": "stream",
     "text": [
      "Welcome to the CBC MILP Solver \n",
      "Version: 2.10.3 \n",
      "Build Date: Dec 15 2019 \n",
      "\n",
      "command line - /opt/anaconda3/lib/python3.11/site-packages/pulp/solverdir/cbc/osx/64/cbc /var/folders/d3/xxdfzd3n6lq70gynyy5khm800000gn/T/ed89ab356c2644e984d0b3e18033e4fe-pulp.mps -primal -timeMode elapsed -branch -printingOptions all -solution /var/folders/d3/xxdfzd3n6lq70gynyy5khm800000gn/T/ed89ab356c2644e984d0b3e18033e4fe-pulp.sol (default strategy 1)\n",
      "At line 2 NAME          MODEL\n",
      "At line 3 ROWS\n",
      "At line 78 COLUMNS\n",
      "At line 655 RHS\n",
      "At line 729 BOUNDS\n",
      "At line 730 ENDATA\n",
      "Problem MODEL has 73 rows, 191 columns and 385 elements\n",
      "Coin0008I MODEL read with 0 errors\n",
      "Multiple matches for primal - possible completions:\n",
      "primalP(ivot)\n",
      "primalS(implex)\n",
      "primalT(olerance)\n",
      "primalW(eight)\n",
      "Option for timeMode changed from cpu to elapsed\n",
      "Presolve 47 (-26) rows, 144 (-47) columns and 290 (-95) elements\n",
      "Perturbing problem by 0.001% of 1.6 - largest nonzero change 9.0370431e-05 ( 0.018965159%) - largest zero change 4.412758e-05\n",
      "0  Obj 150023.19 Primal inf 81777.101 (44)\n",
      "48  Obj 199480.93\n",
      "Optimal - objective value 199476.25\n",
      "After Postsolve, objective 199476.25, infeasibilities - dual 0 (0), primal 0 (0)\n",
      "Optimal objective 199476.25 - 48 iterations time 0.002, Presolve 0.00\n",
      "Option for printingOptions changed from normal to all\n",
      "Total time (CPU seconds):       0.00   (Wallclock seconds):       0.01\n",
      "\n",
      "Status: Optimal\n"
     ]
    }
   ],
   "source": [
    "prob.solve(PULP_CBC_CMD(msg=True, options=[\"primal\"]))\n",
    "print(\"Status:\", LpStatus[prob.status])"
   ]
  },
  {
   "cell_type": "markdown",
   "metadata": {},
   "source": [
    "<font size = '5'> B: Analyze Output </font>"
   ]
  },
  {
   "cell_type": "markdown",
   "metadata": {},
   "source": [
    "<font size='4'> B1: Satisfying Optimization Problem Cosntraints: </font>"
   ]
  },
  {
   "cell_type": "markdown",
   "metadata": {},
   "source": [
    "<b>1. Main Hub Capacity:</b> The two main cargo centers have a limited size. The total quantity of goods each main hub ships out to focus cities (Xij) and fulfillment centers (Yik) can not exceed their storage capacity. The CVG hub’s capacity is 95,650 monthly tons. The AFW hub’s capacity is 44,350 monthly tons."
   ]
  },
  {
   "cell_type": "code",
   "execution_count": 36,
   "metadata": {},
   "outputs": [
    {
     "name": "stdout",
     "output_type": "stream",
     "text": [
      "Cincinnati sends a total of: 43470.0 to focus centers.\n",
      "Cincinnati sends a total of: 52180.0 to fulfillment centers.\n",
      "Cincinnati sends a total of: 95650.0\n",
      "Cincinnati's Remaining Capacity: 0.0\n"
     ]
    }
   ],
   "source": [
    "#Cincinatti\n",
    "cincinnati_to_focus = 0\n",
    "cincinnati_to_fulfillment = 0\n",
    "\n",
    "for focus_center in focus_centers:\n",
    "    if ('Cincinnati_hub', focus_center) in Xij:\n",
    "        cincinnati_to_focus += Xij[('Cincinnati_hub', focus_center)].varValue\n",
    "\n",
    "for fulfillment_center in fulfillment_centers:\n",
    "    if ('Cincinnati_hub', fulfillment_center) in Yik:\n",
    "        cincinnati_to_fulfillment += Yik[('Cincinnati_hub', fulfillment_center)].varValue\n",
    "\n",
    "print(f\"Cincinnati sends a total of: {cincinnati_to_focus} to focus centers.\")\n",
    "print(f\"Cincinnati sends a total of: {cincinnati_to_fulfillment} to fulfillment centers.\")\n",
    "print(f\"Cincinnati sends a total of: {cincinnati_to_focus + cincinnati_to_fulfillment}\")\n",
    "print(f\"Cincinnati's Remaining Capacity: {95650 - (cincinnati_to_focus + cincinnati_to_fulfillment)}\")"
   ]
  },
  {
   "cell_type": "code",
   "execution_count": 37,
   "metadata": {},
   "outputs": [
    {
     "name": "stdout",
     "output_type": "stream",
     "text": [
      "Alliance sends a total of: 0.0 to focus centers.\n",
      "Alliance sends a total of: 38097.0 to fulfillment centers.\n",
      "Alliance sends a total of: 38097.0\n",
      "Alliance's Remaining Capacity: 6253.0\n"
     ]
    }
   ],
   "source": [
    "#Alliance\n",
    "alliance_to_focus = 0\n",
    "alliance_to_fulfillment = 0\n",
    "\n",
    "for focus_center in focus_centers:\n",
    "    if ('Alliance_hub', focus_center) in Xij:\n",
    "        alliance_to_focus += Xij[('Alliance_hub', focus_center)].varValue\n",
    "\n",
    "for fulfillment_center in fulfillment_centers:\n",
    "    if ('Alliance_hub', fulfillment_center) in Yik:\n",
    "        alliance_to_fulfillment += Yik[('Alliance_hub', fulfillment_center)].varValue\n",
    "\n",
    "print(f\"Alliance sends a total of: {alliance_to_focus} to focus centers.\")\n",
    "print(f\"Alliance sends a total of: {alliance_to_fulfillment} to fulfillment centers.\")\n",
    "print(f\"Alliance sends a total of: {alliance_to_focus + alliance_to_fulfillment}\")\n",
    "print(f\"Alliance's Remaining Capacity: {44350 - (alliance_to_focus + alliance_to_fulfillment)}\")"
   ]
  },
  {
   "cell_type": "markdown",
   "metadata": {},
   "source": [
    "<b>2. Quantity Into a Focus Center:</b> Each focus center has a limited size. The total quantity each focus center receives (Xij) can not exceed its storage capacity. The quantity each focus center receives is the sum of goods from main hub 1 and main hub 2. Leipzig focus center’s capacity is 85,000 monthly tons. Hyderabad focus center’s capacity is 19,000 monthly tons. San Bernardino focus center’s capacity is 36,000 monthly tons.\n"
   ]
  },
  {
   "cell_type": "code",
   "execution_count": 38,
   "metadata": {},
   "outputs": [
    {
     "name": "stdout",
     "output_type": "stream",
     "text": [
      "Total quantity into Leipzig_focus: 43470.0\n",
      "Total quantity into Hyderabad_focus: 0\n",
      "Total quantity into San_Bernadino_focus: 0.0\n"
     ]
    }
   ],
   "source": [
    "focus_center_capacity = {\n",
    "    \"Leipzig_focus\": 85000,\n",
    "    \"San_Bernadino_focus\": 36000,\n",
    "    \"Hyderabad_focus\": 19000,\n",
    "}\n",
    "\n",
    "quantities_into_focus = {focus_center: 0 for focus_center in focus_centers}\n",
    "\n",
    "for hub in hubs:\n",
    "    for focus_center in focus_centers:\n",
    "        if (hub, focus_center) in Xij:\n",
    "            quantities_into_focus[focus_center] += Xij[(hub, focus_center)].varValue\n",
    "\n",
    "for focus_center in focus_centers:\n",
    "    print(f\"Total quantity into {focus_center}: {quantities_into_focus[focus_center]}\")"
   ]
  },
  {
   "cell_type": "markdown",
   "metadata": {},
   "source": [
    "<b>3. Quantity Out of a Focus Center:</b> Each focus city center receives a certain amount of goods from the main hubs (Xij). The total quantity a focus city center sends out to fulfillment centers (Zjk) is the same quantity they initially received. Therefore, excess goods are not accumulated, and received goods are not lost.\n"
   ]
  },
  {
   "cell_type": "code",
   "execution_count": 39,
   "metadata": {},
   "outputs": [
    {
     "name": "stdout",
     "output_type": "stream",
     "text": [
      "Leipzig_focus received a total of: 43470.0\n",
      "Leipzig_focus sent a total of: 43470.0\n",
      "------------------------------\n",
      "Hyderabad_focus received a total of: 0\n",
      "Hyderabad_focus sent a total of: 0.0\n",
      "------------------------------\n",
      "San_Bernadino_focus received a total of: 0.0\n",
      "San_Bernadino_focus sent a total of: 0.0\n",
      "------------------------------\n"
     ]
    }
   ],
   "source": [
    "quantities_out_of_focus = {focus_center: 0 for focus_center in focus_centers}\n",
    "\n",
    "for focus_center in focus_centers:\n",
    "    for fulfillment_center in fulfillment_centers:\n",
    "        if (focus_center, fulfillment_center) in Zjk:\n",
    "            quantities_out_of_focus[focus_center] += Zjk[(focus_center, fulfillment_center)].varValue\n",
    "\n",
    "for focus_center in focus_centers:\n",
    "    print(f\"{focus_center} received a total of: {quantities_into_focus[focus_center]}\")\n",
    "    print(f\"{focus_center} sent a total of: {quantities_out_of_focus[focus_center]}\")\n",
    "    print(\"-\" * 30)"
   ]
  },
  {
   "cell_type": "markdown",
   "metadata": {},
   "source": [
    "<b>4. Fulfillment Center Demand:</b> Each fulfillment center has a demand for goods based on customer needs. Fulfillment centers in cities with more customers have a higher demand for goods. The goods each fulfillment center receives from the main hubs (Yik) and focus city centers (Zjk) must meet the fulfillment center's demand.\n"
   ]
  },
  {
   "cell_type": "code",
   "execution_count": 48,
   "metadata": {},
   "outputs": [
    {
     "name": "stdout",
     "output_type": "stream",
     "text": [
      "Paris received a total of: 6500.0\n",
      "Paris demand is: 6500\n",
      "------------------------------\n",
      "Cologne received a total of: 640.0\n",
      "Cologne demand is: 640\n",
      "------------------------------\n",
      "Hanover received a total of: 180.0\n",
      "Hanover demand is: 180\n",
      "------------------------------\n",
      "Bengaluru received a total of: 9100.0\n",
      "Bengaluru demand is: 9100\n",
      "------------------------------\n",
      "Coimbatore received a total of: 570.0\n",
      "Coimbatore demand is: 570\n",
      "------------------------------\n",
      "Delhi received a total of: 19000.0\n",
      "Delhi demand is: 19000\n",
      "------------------------------\n",
      "Mumbai received a total of: 14800.0\n",
      "Mumbai demand is: 14800\n",
      "------------------------------\n",
      "Cagliari received a total of: 90.0\n",
      "Cagliari demand is: 90\n",
      "------------------------------\n",
      "Catania received a total of: 185.0\n",
      "Catania demand is: 185\n",
      "------------------------------\n",
      "Milan received a total of: 800.0\n",
      "Milan demand is: 800\n",
      "------------------------------\n",
      "Rome received a total of: 1700.0\n",
      "Rome demand is: 1700\n",
      "------------------------------\n",
      "Katowice received a total of: 170.0\n",
      "Katowice demand is: 170\n",
      "------------------------------\n",
      "Barcelona received a total of: 2800.0\n",
      "Barcelona demand is: 2800\n",
      "------------------------------\n",
      "Madrid received a total of: 3700.0\n",
      "Madrid demand is: 3700\n",
      "------------------------------\n",
      "Castle Donington received a total of: 30.0\n",
      "Castle Donington demand is: 30\n",
      "------------------------------\n",
      "London received a total of: 6700.0\n",
      "London demand is: 6700\n",
      "------------------------------\n",
      "Mobile received a total of: 190.0\n",
      "Mobile demand is: 190\n",
      "------------------------------\n",
      "Anchorage received a total of: 175.0\n",
      "Anchorage demand is: 175\n",
      "------------------------------\n",
      "Fairbanks received a total of: 38.0\n",
      "Fairbanks demand is: 38\n",
      "------------------------------\n",
      "Phoenix received a total of: 2400.0\n",
      "Phoenix demand is: 2400\n",
      "------------------------------\n",
      "Los Angeles received a total of: 7200.0\n",
      "Los Angeles demand is: 7200\n",
      "------------------------------\n",
      "Ontario received a total of: 100.0\n",
      "Ontario demand is: 100\n",
      "------------------------------\n",
      "Riverside received a total of: 1200.0\n",
      "Riverside demand is: 1200\n",
      "------------------------------\n",
      "Sacramento received a total of: 1100.0\n",
      "Sacramento demand is: 1100\n",
      "------------------------------\n",
      "San Francisco received a total of: 1900.0\n",
      "San Francisco demand is: 1900\n",
      "------------------------------\n",
      "Stockton received a total of: 240.0\n",
      "Stockton demand is: 240\n",
      "------------------------------\n",
      "Denver received a total of: 1500.0\n",
      "Denver demand is: 1500\n",
      "------------------------------\n",
      "Hartford received a total of: 540.0\n",
      "Hartford demand is: 540\n",
      "------------------------------\n",
      "Miami received a total of: 3400.0\n",
      "Miami demand is: 3400\n",
      "------------------------------\n",
      "Lakeland received a total of: 185.0\n",
      "Lakeland demand is: 185\n",
      "------------------------------\n",
      "Tampa received a total of: 1600.0\n",
      "Tampa demand is: 1600\n",
      "------------------------------\n",
      "Atlanta received a total of: 3000.0\n",
      "Atlanta demand is: 3000\n",
      "------------------------------\n",
      "Honolulu received a total of: 500.0\n",
      "Honolulu demand is: 500\n",
      "------------------------------\n",
      "Kahului/Maui received a total of: 16.0\n",
      "Kahului/Maui demand is: 16\n",
      "------------------------------\n",
      "Kona received a total of: 63.0\n",
      "Kona demand is: 63\n",
      "------------------------------\n",
      "Chicago received a total of: 5100.0\n",
      "Chicago demand is: 5100\n",
      "------------------------------\n",
      "Chicago/Rockford received a total of: 172.0\n",
      "Chicago/Rockford demand is: 172\n",
      "------------------------------\n",
      "Fort Wayne received a total of: 200.0\n",
      "Fort Wayne demand is: 200\n",
      "------------------------------\n",
      "South Bend received a total of: 173.0\n",
      "South Bend demand is: 173\n",
      "------------------------------\n",
      "Des Moines received a total of: 300.0\n",
      "Des Moines demand is: 300\n",
      "------------------------------\n",
      "Wichita received a total of: 290.0\n",
      "Wichita demand is: 290\n",
      "------------------------------\n",
      "New Orleans received a total of: 550.0\n",
      "New Orleans demand is: 550\n",
      "------------------------------\n",
      "Baltimore received a total of: 1300.0\n",
      "Baltimore demand is: 1300\n",
      "------------------------------\n",
      "Minneapolis received a total of: 1700.0\n",
      "Minneapolis demand is: 1700\n",
      "------------------------------\n",
      "Kansas City received a total of: 975.0\n",
      "Kansas City demand is: 975\n",
      "------------------------------\n",
      "St. Louis received a total of: 1200.0\n",
      "St. Louis demand is: 1200\n",
      "------------------------------\n",
      "Omaha received a total of: 480.0\n",
      "Omaha demand is: 480\n",
      "------------------------------\n",
      "Manchester received a total of: 100.0\n",
      "Manchester demand is: 100\n",
      "------------------------------\n",
      "Albuquerque received a total of: 450.0\n",
      "Albuquerque demand is: 450\n",
      "------------------------------\n",
      "New York received a total of: 11200.0\n",
      "New York demand is: 11200\n",
      "------------------------------\n",
      "Charlotte received a total of: 900.0\n",
      "Charlotte demand is: 900\n",
      "------------------------------\n",
      "Toledo received a total of: 290.0\n",
      "Toledo demand is: 290\n",
      "------------------------------\n",
      "Wilmington received a total of: 150.0\n",
      "Wilmington demand is: 150\n",
      "------------------------------\n",
      "Portland received a total of: 1200.0\n",
      "Portland demand is: 1200\n",
      "------------------------------\n",
      "Allentown received a total of: 420.0\n",
      "Allentown demand is: 420\n",
      "------------------------------\n",
      "Pittsburgh received a total of: 1000.0\n",
      "Pittsburgh demand is: 1000\n",
      "------------------------------\n",
      "San Juan received a total of: 1100.0\n",
      "San Juan demand is: 1100\n",
      "------------------------------\n",
      "Nashville received a total of: 650.0\n",
      "Nashville demand is: 650\n",
      "------------------------------\n",
      "Austin received a total of: 975.0\n",
      "Austin demand is: 975\n",
      "------------------------------\n",
      "Dallas/Fort Worth received a total of: 3300.0\n",
      "Dallas/Fort Worth demand is: 3300\n",
      "------------------------------\n",
      "Houston received a total of: 3300.0\n",
      "Houston demand is: 3300\n",
      "------------------------------\n",
      "San Antonio received a total of: 1100.0\n",
      "San Antonio demand is: 1100\n",
      "------------------------------\n",
      "Richmond received a total of: 600.0\n",
      "Richmond demand is: 600\n",
      "------------------------------\n",
      "Seattle/Tacoma received a total of: 2000.0\n",
      "Seattle/Tacoma demand is: 2000\n",
      "------------------------------\n",
      "Spokane received a total of: 260.0\n",
      "Spokane demand is: 260\n",
      "------------------------------\n",
      "Number of fulfillment centers receiving goods: 65\n",
      "Number of fulfillment centers where demand was not met: 0\n"
     ]
    }
   ],
   "source": [
    "quantities_received_by_fulfillment = {fulfillment_center: 0 for fulfillment_center in fulfillment_centers}\n",
    "\n",
    "for hub in hubs:\n",
    "    for fulfillment_center in fulfillment_centers:\n",
    "        if (hub, fulfillment_center) in Yik:\n",
    "            quantities_received_by_fulfillment[fulfillment_center] += Yik[(hub, fulfillment_center)].varValue\n",
    "\n",
    "for focus_center in focus_centers:\n",
    "    for fulfillment_center in fulfillment_centers:\n",
    "        if (focus_center, fulfillment_center) in Zjk:\n",
    "            quantities_received_by_fulfillment[fulfillment_center] += Zjk[(focus_center, fulfillment_center)].varValue\n",
    "\n",
    "unmet_demand_count = 0\n",
    "\n",
    "for i, fulfillment_center in enumerate(fulfillment_centers):\n",
    "    received = quantities_received_by_fulfillment[fulfillment_center]\n",
    "    demand = demands[i]\n",
    "    print(f\"{fulfillment_center} received a total of: {received}\")\n",
    "    print(f\"{fulfillment_center} demand is: {demand}\")\n",
    "    print(\"-\" * 30)\n",
    "    \n",
    "    if received < demand:\n",
    "        unmet_demand_count += 1\n",
    "\n",
    "print(f\"Number of fulfillment centers receiving goods: {len(fulfillment_centers)}\")\n",
    "print(f\"Number of fulfillment centers where demand was not met: {unmet_demand_count}\")\n"
   ]
  },
  {
   "cell_type": "markdown",
   "metadata": {},
   "source": [
    "<font size = '4'> B2: Decision Variables, Constraints, and Objective Function </font>"
   ]
  },
  {
   "cell_type": "markdown",
   "metadata": {},
   "source": [
    "<font size = '3'> Decision Variables: </font>\n",
    "\n",
    "- Values of Each Decision Variable In the Optimal Solution\n",
    "- Count Non-Zero Decision Variables"
   ]
  },
  {
   "cell_type": "code",
   "execution_count": 41,
   "metadata": {},
   "outputs": [
    {
     "name": "stdout",
     "output_type": "stream",
     "text": [
      "Xij_Alliance_hub_San_Bernadino_focus = 0.0\n",
      "Xij_Cincinnati_hub_Leipzig_focus = 43470.0\n",
      "Xij_Cincinnati_hub_San_Bernadino_focus = 0.0\n",
      "Yik_Alliance_hub_Albuquerque = 450.0\n",
      "Yik_Alliance_hub_Allentown = 420.0\n",
      "Yik_Alliance_hub_Anchorage = 175.0\n",
      "Yik_Alliance_hub_Atlanta = 3000.0\n",
      "Yik_Alliance_hub_Austin = 975.0\n",
      "Yik_Alliance_hub_Baltimore = 1300.0\n",
      "Yik_Alliance_hub_Charlotte = 0.0\n",
      "Yik_Alliance_hub_Chicago = 0.0\n",
      "Yik_Alliance_hub_Chicago_Rockford = 172.0\n",
      "Yik_Alliance_hub_Denver = 1500.0\n",
      "Yik_Alliance_hub_Des_Moines = 300.0\n",
      "Yik_Alliance_hub_Fairbanks = 38.0\n",
      "Yik_Alliance_hub_Fort_Wayne = 200.0\n",
      "Yik_Alliance_hub_Hartford = 540.0\n",
      "Yik_Alliance_hub_Honolulu = 500.0\n",
      "Yik_Alliance_hub_Houston = 3300.0\n",
      "Yik_Alliance_hub_Kahului_Maui = 16.0\n",
      "Yik_Alliance_hub_Kansas_City = 0.0\n",
      "Yik_Alliance_hub_Kona = 63.0\n",
      "Yik_Alliance_hub_Lakeland = 185.0\n",
      "Yik_Alliance_hub_Los_Angeles = 0.0\n",
      "Yik_Alliance_hub_Manchester = 100.0\n",
      "Yik_Alliance_hub_Miami = 0.0\n",
      "Yik_Alliance_hub_Minneapolis = 1700.0\n",
      "Yik_Alliance_hub_Mobile = 190.0\n",
      "Yik_Alliance_hub_Nashville = 650.0\n",
      "Yik_Alliance_hub_New_Orleans = 550.0\n",
      "Yik_Alliance_hub_New_York = 7680.0\n",
      "Yik_Alliance_hub_Omaha = 480.0\n",
      "Yik_Alliance_hub_Ontario = 0.0\n",
      "Yik_Alliance_hub_Phoenix = 2400.0\n",
      "Yik_Alliance_hub_Pittsburgh = 1000.0\n",
      "Yik_Alliance_hub_Portland = 1200.0\n",
      "Yik_Alliance_hub_Richmond = 600.0\n",
      "Yik_Alliance_hub_Riverside = 0.0\n",
      "Yik_Alliance_hub_Sacramento = 1100.0\n",
      "Yik_Alliance_hub_San_Antonio = 1100.0\n",
      "Yik_Alliance_hub_San_Francisco = 1900.0\n",
      "Yik_Alliance_hub_San_Juan = 0.0\n",
      "Yik_Alliance_hub_Seattle_Tacoma = 2000.0\n",
      "Yik_Alliance_hub_South_Bend = 173.0\n",
      "Yik_Alliance_hub_Spokane = 260.0\n",
      "Yik_Alliance_hub_St._Louis = 1200.0\n",
      "Yik_Alliance_hub_Stockton = 240.0\n",
      "Yik_Alliance_hub_Tampa = 0.0\n",
      "Yik_Alliance_hub_Toledo = 0.0\n",
      "Yik_Alliance_hub_Wichita = 290.0\n",
      "Yik_Alliance_hub_Wilmington = 150.0\n",
      "Yik_Cincinnati_hub_Albuquerque = 0.0\n",
      "Yik_Cincinnati_hub_Allentown = 0.0\n",
      "Yik_Cincinnati_hub_Anchorage = 0.0\n",
      "Yik_Cincinnati_hub_Atlanta = 0.0\n",
      "Yik_Cincinnati_hub_Austin = 0.0\n",
      "Yik_Cincinnati_hub_Baltimore = 0.0\n",
      "Yik_Cincinnati_hub_Barcelona = 2800.0\n",
      "Yik_Cincinnati_hub_Cagliari = 90.0\n",
      "Yik_Cincinnati_hub_Castle_Donington = 30.0\n",
      "Yik_Cincinnati_hub_Catania = 185.0\n",
      "Yik_Cincinnati_hub_Charlotte = 900.0\n",
      "Yik_Cincinnati_hub_Chicago = 5100.0\n",
      "Yik_Cincinnati_hub_Chicago_Rockford = 0.0\n",
      "Yik_Cincinnati_hub_Cologne = 640.0\n",
      "Yik_Cincinnati_hub_Dallas_Fort_Worth = 3300.0\n",
      "Yik_Cincinnati_hub_Denver = 0.0\n",
      "Yik_Cincinnati_hub_Des_Moines = 0.0\n",
      "Yik_Cincinnati_hub_Fairbanks = 0.0\n",
      "Yik_Cincinnati_hub_Fort_Wayne = 0.0\n",
      "Yik_Cincinnati_hub_Hanover = 180.0\n",
      "Yik_Cincinnati_hub_Hartford = 0.0\n",
      "Yik_Cincinnati_hub_Houston = 0.0\n",
      "Yik_Cincinnati_hub_Kansas_City = 975.0\n",
      "Yik_Cincinnati_hub_Katowice = 170.0\n",
      "Yik_Cincinnati_hub_Lakeland = 0.0\n",
      "Yik_Cincinnati_hub_London = 6700.0\n",
      "Yik_Cincinnati_hub_Los_Angeles = 7200.0\n",
      "Yik_Cincinnati_hub_Madrid = 3700.0\n",
      "Yik_Cincinnati_hub_Manchester = 0.0\n",
      "Yik_Cincinnati_hub_Miami = 3400.0\n",
      "Yik_Cincinnati_hub_Milan = 800.0\n",
      "Yik_Cincinnati_hub_Minneapolis = 0.0\n",
      "Yik_Cincinnati_hub_Mobile = 0.0\n",
      "Yik_Cincinnati_hub_Nashville = 0.0\n",
      "Yik_Cincinnati_hub_New_Orleans = 0.0\n",
      "Yik_Cincinnati_hub_New_York = 3520.0\n",
      "Yik_Cincinnati_hub_Omaha = 0.0\n",
      "Yik_Cincinnati_hub_Ontario = 100.0\n",
      "Yik_Cincinnati_hub_Paris = 6500.0\n",
      "Yik_Cincinnati_hub_Phoenix = 0.0\n",
      "Yik_Cincinnati_hub_Pittsburgh = 0.0\n",
      "Yik_Cincinnati_hub_Portland = 0.0\n",
      "Yik_Cincinnati_hub_Richmond = 0.0\n",
      "Yik_Cincinnati_hub_Riverside = 1200.0\n",
      "Yik_Cincinnati_hub_Rome = 1700.0\n",
      "Yik_Cincinnati_hub_Sacramento = 0.0\n",
      "Yik_Cincinnati_hub_San_Antonio = 0.0\n",
      "Yik_Cincinnati_hub_San_Francisco = 0.0\n",
      "Yik_Cincinnati_hub_San_Juan = 1100.0\n",
      "Yik_Cincinnati_hub_Seattle_Tacoma = 0.0\n",
      "Yik_Cincinnati_hub_South_Bend = 0.0\n",
      "Yik_Cincinnati_hub_Spokane = 0.0\n",
      "Yik_Cincinnati_hub_St._Louis = 0.0\n",
      "Yik_Cincinnati_hub_Stockton = 0.0\n",
      "Yik_Cincinnati_hub_Tampa = 1600.0\n",
      "Yik_Cincinnati_hub_Toledo = 290.0\n",
      "Yik_Cincinnati_hub_Wichita = 0.0\n",
      "Yik_Cincinnati_hub_Wilmington = 0.0\n",
      "Zjk_Hyderabad_focus_Barcelona = 0.0\n",
      "Zjk_Hyderabad_focus_Bengaluru = 0.0\n",
      "Zjk_Hyderabad_focus_Cagliari = 0.0\n",
      "Zjk_Hyderabad_focus_Catania = 0.0\n",
      "Zjk_Hyderabad_focus_Coimbatore = 0.0\n",
      "Zjk_Hyderabad_focus_Cologne = 0.0\n",
      "Zjk_Hyderabad_focus_Delhi = 0.0\n",
      "Zjk_Hyderabad_focus_Hanover = 0.0\n",
      "Zjk_Hyderabad_focus_Katowice = 0.0\n",
      "Zjk_Hyderabad_focus_London = 0.0\n",
      "Zjk_Hyderabad_focus_Madrid = 0.0\n",
      "Zjk_Hyderabad_focus_Milan = 0.0\n",
      "Zjk_Hyderabad_focus_Mumbai = 0.0\n",
      "Zjk_Hyderabad_focus_Paris = 0.0\n",
      "Zjk_Hyderabad_focus_Rome = 0.0\n",
      "Zjk_Leipzig_focus_Allentown = 0.0\n",
      "Zjk_Leipzig_focus_Baltimore = 0.0\n",
      "Zjk_Leipzig_focus_Barcelona = 0.0\n",
      "Zjk_Leipzig_focus_Bengaluru = 9100.0\n",
      "Zjk_Leipzig_focus_Cagliari = 0.0\n",
      "Zjk_Leipzig_focus_Castle_Donington = 0.0\n",
      "Zjk_Leipzig_focus_Catania = 0.0\n",
      "Zjk_Leipzig_focus_Coimbatore = 570.0\n",
      "Zjk_Leipzig_focus_Cologne = 0.0\n",
      "Zjk_Leipzig_focus_Delhi = 19000.0\n",
      "Zjk_Leipzig_focus_Hanover = 0.0\n",
      "Zjk_Leipzig_focus_Hartford = 0.0\n",
      "Zjk_Leipzig_focus_Katowice = 0.0\n",
      "Zjk_Leipzig_focus_London = 0.0\n",
      "Zjk_Leipzig_focus_Madrid = 0.0\n",
      "Zjk_Leipzig_focus_Manchester = 0.0\n",
      "Zjk_Leipzig_focus_Milan = 0.0\n",
      "Zjk_Leipzig_focus_Mumbai = 14800.0\n",
      "Zjk_Leipzig_focus_New_York = 0.0\n",
      "Zjk_Leipzig_focus_Paris = 0.0\n",
      "Zjk_Leipzig_focus_Rome = 0.0\n",
      "Zjk_San_Bernadino_focus_Albuquerque = 0.0\n",
      "Zjk_San_Bernadino_focus_Allentown = 0.0\n",
      "Zjk_San_Bernadino_focus_Anchorage = 0.0\n",
      "Zjk_San_Bernadino_focus_Atlanta = 0.0\n",
      "Zjk_San_Bernadino_focus_Austin = 0.0\n",
      "Zjk_San_Bernadino_focus_Baltimore = 0.0\n",
      "Zjk_San_Bernadino_focus_Charlotte = 0.0\n",
      "Zjk_San_Bernadino_focus_Chicago = 0.0\n",
      "Zjk_San_Bernadino_focus_Chicago_Rockford = 0.0\n",
      "Zjk_San_Bernadino_focus_Dallas_Fort_Worth = 0.0\n",
      "Zjk_San_Bernadino_focus_Denver = 0.0\n",
      "Zjk_San_Bernadino_focus_Des_Moines = 0.0\n",
      "Zjk_San_Bernadino_focus_Fairbanks = 0.0\n",
      "Zjk_San_Bernadino_focus_Fort_Wayne = 0.0\n",
      "Zjk_San_Bernadino_focus_Hartford = 0.0\n",
      "Zjk_San_Bernadino_focus_Honolulu = 0.0\n",
      "Zjk_San_Bernadino_focus_Houston = 0.0\n",
      "Zjk_San_Bernadino_focus_Kahului_Maui = 0.0\n",
      "Zjk_San_Bernadino_focus_Kansas_City = 0.0\n",
      "Zjk_San_Bernadino_focus_Kona = 0.0\n",
      "Zjk_San_Bernadino_focus_Lakeland = 0.0\n",
      "Zjk_San_Bernadino_focus_Manchester = 0.0\n",
      "Zjk_San_Bernadino_focus_Miami = 0.0\n",
      "Zjk_San_Bernadino_focus_Minneapolis = 0.0\n",
      "Zjk_San_Bernadino_focus_Mobile = 0.0\n",
      "Zjk_San_Bernadino_focus_Nashville = 0.0\n",
      "Zjk_San_Bernadino_focus_New_Orleans = 0.0\n",
      "Zjk_San_Bernadino_focus_New_York = 0.0\n",
      "Zjk_San_Bernadino_focus_Omaha = 0.0\n",
      "Zjk_San_Bernadino_focus_Phoenix = 0.0\n",
      "Zjk_San_Bernadino_focus_Pittsburgh = 0.0\n",
      "Zjk_San_Bernadino_focus_Portland = 0.0\n",
      "Zjk_San_Bernadino_focus_Richmond = 0.0\n",
      "Zjk_San_Bernadino_focus_Sacramento = 0.0\n",
      "Zjk_San_Bernadino_focus_San_Antonio = 0.0\n",
      "Zjk_San_Bernadino_focus_San_Francisco = 0.0\n",
      "Zjk_San_Bernadino_focus_San_Juan = 0.0\n",
      "Zjk_San_Bernadino_focus_Seattle_Tacoma = 0.0\n",
      "Zjk_San_Bernadino_focus_South_Bend = 0.0\n",
      "Zjk_San_Bernadino_focus_Spokane = 0.0\n",
      "Zjk_San_Bernadino_focus_St._Louis = 0.0\n",
      "Zjk_San_Bernadino_focus_Stockton = 0.0\n",
      "Zjk_San_Bernadino_focus_Tampa = 0.0\n",
      "Zjk_San_Bernadino_focus_Toledo = 0.0\n",
      "Zjk_San_Bernadino_focus_Wichita = 0.0\n",
      "Zjk_San_Bernadino_focus_Wilmington = 0.0\n"
     ]
    }
   ],
   "source": [
    "#All Decision Varibale Values\n",
    "for v in prob.variables():\n",
    "    print(v.name, \"=\", v.varValue)"
   ]
  },
  {
   "cell_type": "code",
   "execution_count": 45,
   "metadata": {},
   "outputs": [
    {
     "name": "stdout",
     "output_type": "stream",
     "text": [
      "Number of non-zero decision variables: 67\n",
      "Total number of decision variables: 191\n"
     ]
    }
   ],
   "source": [
    "non_zero_count = sum(1 for v in prob.variables() if v.varValue > 0)\n",
    "print(f\"Number of non-zero decision variables: {non_zero_count}\")\n",
    "total_decision_variables = len(prob.variables())\n",
    "print(f\"Total number of decision variables: {total_decision_variables}\")"
   ]
  },
  {
   "cell_type": "markdown",
   "metadata": {},
   "source": [
    "<font size = '3'> Objective Function </font>"
   ]
  },
  {
   "cell_type": "code",
   "execution_count": 43,
   "metadata": {},
   "outputs": [
    {
     "name": "stdout",
     "output_type": "stream",
     "text": [
      "Optimal Cost: 199476.25\n"
     ]
    }
   ],
   "source": [
    "print(\"Optimal Cost:\", value(prob.objective))"
   ]
  }
 ],
 "metadata": {
  "kernelspec": {
   "display_name": "base",
   "language": "python",
   "name": "python3"
  },
  "language_info": {
   "codemirror_mode": {
    "name": "ipython",
    "version": 3
   },
   "file_extension": ".py",
   "mimetype": "text/x-python",
   "name": "python",
   "nbconvert_exporter": "python",
   "pygments_lexer": "ipython3",
   "version": "3.11.8"
  }
 },
 "nbformat": 4,
 "nbformat_minor": 2
}
